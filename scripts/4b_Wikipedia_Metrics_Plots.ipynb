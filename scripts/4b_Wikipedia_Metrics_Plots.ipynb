{
 "cells": [
  {
   "cell_type": "code",
   "execution_count": 1,
   "metadata": {},
   "outputs": [],
   "source": [
    "import pandas as pd\n",
    "import numpy as np\n",
    "import matplotlib.pyplot as plt\n",
    "%matplotlib inline\n",
    "import scipy.stats as stats"
   ]
  },
  {
   "cell_type": "code",
   "execution_count": 2,
   "metadata": {},
   "outputs": [],
   "source": [
    "fn = '../output/wikipedia_metrics.csv'"
   ]
  },
  {
   "cell_type": "code",
   "execution_count": 3,
   "metadata": {},
   "outputs": [],
   "source": [
    "df = pd.read_csv(fn)"
   ]
  },
  {
   "cell_type": "code",
   "execution_count": 4,
   "metadata": {},
   "outputs": [
    {
     "data": {
      "text/html": [
       "<div>\n",
       "<style scoped>\n",
       "    .dataframe tbody tr th:only-of-type {\n",
       "        vertical-align: middle;\n",
       "    }\n",
       "\n",
       "    .dataframe tbody tr th {\n",
       "        vertical-align: top;\n",
       "    }\n",
       "\n",
       "    .dataframe thead th {\n",
       "        text-align: right;\n",
       "    }\n",
       "</style>\n",
       "<table border=\"1\" class=\"dataframe\">\n",
       "  <thead>\n",
       "    <tr style=\"text-align: right;\">\n",
       "      <th></th>\n",
       "      <th>title</th>\n",
       "      <th>edits</th>\n",
       "      <th>size</th>\n",
       "      <th>user</th>\n",
       "    </tr>\n",
       "  </thead>\n",
       "  <tbody>\n",
       "    <tr>\n",
       "      <td>0</td>\n",
       "      <td>50_Cent</td>\n",
       "      <td>13066</td>\n",
       "      <td>518204129</td>\n",
       "      <td>4557</td>\n",
       "    </tr>\n",
       "    <tr>\n",
       "      <td>1</td>\n",
       "      <td>Adele</td>\n",
       "      <td>6725</td>\n",
       "      <td>456912673</td>\n",
       "      <td>2672</td>\n",
       "    </tr>\n",
       "    <tr>\n",
       "      <td>2</td>\n",
       "      <td>Angelina_Jolie</td>\n",
       "      <td>7336</td>\n",
       "      <td>531496219</td>\n",
       "      <td>2902</td>\n",
       "    </tr>\n",
       "    <tr>\n",
       "      <td>3</td>\n",
       "      <td>Backstreet_Boys</td>\n",
       "      <td>10270</td>\n",
       "      <td>412497115</td>\n",
       "      <td>4050</td>\n",
       "    </tr>\n",
       "    <tr>\n",
       "      <td>4</td>\n",
       "      <td>Ben_Affleck</td>\n",
       "      <td>9263</td>\n",
       "      <td>906521569</td>\n",
       "      <td>3655</td>\n",
       "    </tr>\n",
       "  </tbody>\n",
       "</table>\n",
       "</div>"
      ],
      "text/plain": [
       "             title  edits       size  user\n",
       "0          50_Cent  13066  518204129  4557\n",
       "1            Adele   6725  456912673  2672\n",
       "2   Angelina_Jolie   7336  531496219  2902\n",
       "3  Backstreet_Boys  10270  412497115  4050\n",
       "4      Ben_Affleck   9263  906521569  3655"
      ]
     },
     "execution_count": 4,
     "metadata": {},
     "output_type": "execute_result"
    }
   ],
   "source": [
    "df.head()"
   ]
  },
  {
   "cell_type": "code",
   "execution_count": 6,
   "metadata": {},
   "outputs": [],
   "source": [
    "x = df['user']\n",
    "y = df['edits']"
   ]
  },
  {
   "cell_type": "code",
   "execution_count": 16,
   "metadata": {},
   "outputs": [
    {
     "data": {
      "text/plain": [
       "[<matplotlib.lines.Line2D at 0x7fa37d2f0650>]"
      ]
     },
     "execution_count": 16,
     "metadata": {},
     "output_type": "execute_result"
    },
    {
     "data": {
      "image/png": "[encoded data removed]",
      "text/plain": [
       "<Figure size 432x288 with 1 Axes>"
      ]
     },
     "metadata": {
      "needs_background": "light"
     },
     "output_type": "display_data"
    }
   ],
   "source": [
    "plt.plot(x, y, color='black', marker='.', alpha=0.5, linestyle='')"
   ]
  },
  {
   "cell_type": "code",
   "execution_count": null,
   "metadata": {},
   "outputs": [],
   "source": []
  },
  {
   "cell_type": "code",
   "execution_count": null,
   "metadata": {},
   "outputs": [],
   "source": []
  },
  {
   "cell_type": "code",
   "execution_count": null,
   "metadata": {},
   "outputs": [],
   "source": []
  },
  {
   "cell_type": "code",
   "execution_count": 21,
   "metadata": {},
   "outputs": [
    {
     "data": {
      "text/plain": [
       "[<matplotlib.lines.Line2D at 0x7fa37d162b90>]"
      ]
     },
     "execution_count": 21,
     "metadata": {},
     "output_type": "execute_result"
    },
    {
     "data": {
      "image/png": "[encoded data removed]",
      "text/plain": [
       "<Figure size 432x288 with 1 Axes>"
      ]
     },
     "metadata": {
      "needs_background": "light"
     },
     "output_type": "display_data"
    }
   ],
   "source": [
    "plt.xlabel('No. of Contributing Users')\n",
    "plt.ylabel('No. of Edits')\n",
    "plt.minorticks_on()\n",
    "plt.title(\"Forbes 100 Celebrities' Wikipedia Pages\")\n",
    "plt.plot(x, y, color='black', marker='.', alpha=0.5, linestyle='')"
   ]
  },
  {
   "cell_type": "code",
   "execution_count": 22,
   "metadata": {},
   "outputs": [],
   "source": [
    "x_mean = np.mean(x)"
   ]
  },
  {
   "cell_type": "code",
   "execution_count": 23,
   "metadata": {},
   "outputs": [],
   "source": [
    "slope, intercept, r_value, p_value, std_err = stats.linregress(x-x_mean, y)"
   ]
  },
  {
   "cell_type": "code",
   "execution_count": 24,
   "metadata": {},
   "outputs": [],
   "source": [
    "xx = np.linspace(800, 8400, 1000)"
   ]
  },
  {
   "cell_type": "code",
   "execution_count": 25,
   "metadata": {},
   "outputs": [],
   "source": [
    "mean_ratio = np.mean(y/x)"
   ]
  },
  {
   "cell_type": "code",
   "execution_count": 26,
   "metadata": {},
   "outputs": [],
   "source": [
    "yy = mean_ratio * xx"
   ]
  },
  {
   "cell_type": "code",
   "execution_count": 32,
   "metadata": {},
   "outputs": [
    {
     "data": {
      "image/png": "[encoded data removed]",
      "text/plain": [
       "<Figure size 432x288 with 1 Axes>"
      ]
     },
     "metadata": {
      "needs_background": "light"
     },
     "output_type": "display_data"
    }
   ],
   "source": [
    "plt.plot(x, y, 'k.')\n",
    "plt.plot(xx, yy, 'b--', label='mean ratio = %.2f'%mean_ratio)\n",
    "\n",
    "plt.xlabel('No. of contributing users')\n",
    "plt.ylabel('No of edits')\n",
    "plt.minorticks_on()\n",
    "plt.title(\"Forbes 100 Celebrities' Wikipedia Pages\")\n",
    "plt.legend(loc='upper left', numpoints=1)\n",
    "plt.savefig('../fig/fig_wikipedia_users_vs_no_of_edits.png')"
   ]
  },
  {
   "cell_type": "code",
   "execution_count": 33,
   "metadata": {},
   "outputs": [
    {
     "data": {
      "text/plain": [
       "array([ 800.        ,  807.60760761,  815.21521522,  822.82282282,\n",
       "        830.43043043,  838.03803804,  845.64564565,  853.25325325,\n",
       "        860.86086086,  868.46846847,  876.07607608,  883.68368368,\n",
       "        891.29129129,  898.8988989 ,  906.50650651,  914.11411411,\n",
       "        921.72172172,  929.32932933,  936.93693694,  944.54454454,\n",
       "        952.15215215,  959.75975976,  967.36736737,  974.97497497,\n",
       "        982.58258258,  990.19019019,  997.7977978 , 1005.40540541,\n",
       "       1013.01301301, 1020.62062062, 1028.22822823, 1035.83583584,\n",
       "       1043.44344344, 1051.05105105, 1058.65865866, 1066.26626627,\n",
       "       1073.87387387, 1081.48148148, 1089.08908909, 1096.6966967 ,\n",
       "       1104.3043043 , 1111.91191191, 1119.51951952, 1127.12712713,\n",
       "       1134.73473473, 1142.34234234, 1149.94994995, 1157.55755756,\n",
       "       1165.16516517, 1172.77277277, 1180.38038038, 1187.98798799,\n",
       "       1195.5955956 , 1203.2032032 , 1210.81081081, 1218.41841842,\n",
       "       1226.02602603, 1233.63363363, 1241.24124124, 1248.84884885,\n",
       "       1256.45645646, 1264.06406406, 1271.67167167, 1279.27927928,\n",
       "       1286.88688689, 1294.49449449, 1302.1021021 , 1309.70970971,\n",
       "       1317.31731732, 1324.92492492, 1332.53253253, 1340.14014014,\n",
       "       1347.74774775, 1355.35535536, 1362.96296296, 1370.57057057,\n",
       "       1378.17817818, 1385.78578579, 1393.39339339, 1401.001001  ,\n",
       "       1408.60860861, 1416.21621622, 1423.82382382, 1431.43143143,\n",
       "       1439.03903904, 1446.64664665, 1454.25425425, 1461.86186186,\n",
       "       1469.46946947, 1477.07707708, 1484.68468468, 1492.29229229,\n",
       "       1499.8998999 , 1507.50750751, 1515.11511512, 1522.72272272,\n",
       "       1530.33033033, 1537.93793794, 1545.54554555, 1553.15315315,\n",
       "       1560.76076076, 1568.36836837, 1575.97597598, 1583.58358358,\n",
       "       1591.19119119, 1598.7987988 , 1606.40640641, 1614.01401401,\n",
       "       1621.62162162, 1629.22922923, 1636.83683684, 1644.44444444,\n",
       "       1652.05205205, 1659.65965966, 1667.26726727, 1674.87487487,\n",
       "       1682.48248248, 1690.09009009, 1697.6976977 , 1705.30530531,\n",
       "       1712.91291291, 1720.52052052, 1728.12812813, 1735.73573574,\n",
       "       1743.34334334, 1750.95095095, 1758.55855856, 1766.16616617,\n",
       "       1773.77377377, 1781.38138138, 1788.98898899, 1796.5965966 ,\n",
       "       1804.2042042 , 1811.81181181, 1819.41941942, 1827.02702703,\n",
       "       1834.63463463, 1842.24224224, 1849.84984985, 1857.45745746,\n",
       "       1865.06506507, 1872.67267267, 1880.28028028, 1887.88788789,\n",
       "       1895.4954955 , 1903.1031031 , 1910.71071071, 1918.31831832,\n",
       "       1925.92592593, 1933.53353353, 1941.14114114, 1948.74874875,\n",
       "       1956.35635636, 1963.96396396, 1971.57157157, 1979.17917918,\n",
       "       1986.78678679, 1994.39439439, 2002.002002  , 2009.60960961,\n",
       "       2017.21721722, 2024.82482482, 2032.43243243, 2040.04004004,\n",
       "       2047.64764765, 2055.25525526, 2062.86286286, 2070.47047047,\n",
       "       2078.07807808, 2085.68568569, 2093.29329329, 2100.9009009 ,\n",
       "       2108.50850851, 2116.11611612, 2123.72372372, 2131.33133133,\n",
       "       2138.93893894, 2146.54654655, 2154.15415415, 2161.76176176,\n",
       "       2169.36936937, 2176.97697698, 2184.58458458, 2192.19219219,\n",
       "       2199.7997998 , 2207.40740741, 2215.01501502, 2222.62262262,\n",
       "       2230.23023023, 2237.83783784, 2245.44544545, 2253.05305305,\n",
       "       2260.66066066, 2268.26826827, 2275.87587588, 2283.48348348,\n",
       "       2291.09109109, 2298.6986987 , 2306.30630631, 2313.91391391,\n",
       "       2321.52152152, 2329.12912913, 2336.73673674, 2344.34434434,\n",
       "       2351.95195195, 2359.55955956, 2367.16716717, 2374.77477477,\n",
       "       2382.38238238, 2389.98998999, 2397.5975976 , 2405.20520521,\n",
       "       2412.81281281, 2420.42042042, 2428.02802803, 2435.63563564,\n",
       "       2443.24324324, 2450.85085085, 2458.45845846, 2466.06606607,\n",
       "       2473.67367367, 2481.28128128, 2488.88888889, 2496.4964965 ,\n",
       "       2504.1041041 , 2511.71171171, 2519.31931932, 2526.92692693,\n",
       "       2534.53453453, 2542.14214214, 2549.74974975, 2557.35735736,\n",
       "       2564.96496496, 2572.57257257, 2580.18018018, 2587.78778779,\n",
       "       2595.3953954 , 2603.003003  , 2610.61061061, 2618.21821822,\n",
       "       2625.82582583, 2633.43343343, 2641.04104104, 2648.64864865,\n",
       "       2656.25625626, 2663.86386386, 2671.47147147, 2679.07907908,\n",
       "       2686.68668669, 2694.29429429, 2701.9019019 , 2709.50950951,\n",
       "       2717.11711712, 2724.72472472, 2732.33233233, 2739.93993994,\n",
       "       2747.54754755, 2755.15515516, 2762.76276276, 2770.37037037,\n",
       "       2777.97797798, 2785.58558559, 2793.19319319, 2800.8008008 ,\n",
       "       2808.40840841, 2816.01601602, 2823.62362362, 2831.23123123,\n",
       "       2838.83883884, 2846.44644645, 2854.05405405, 2861.66166166,\n",
       "       2869.26926927, 2876.87687688, 2884.48448448, 2892.09209209,\n",
       "       2899.6996997 , 2907.30730731, 2914.91491491, 2922.52252252,\n",
       "       2930.13013013, 2937.73773774, 2945.34534535, 2952.95295295,\n",
       "       2960.56056056, 2968.16816817, 2975.77577578, 2983.38338338,\n",
       "       2990.99099099, 2998.5985986 , 3006.20620621, 3013.81381381,\n",
       "       3021.42142142, 3029.02902903, 3036.63663664, 3044.24424424,\n",
       "       3051.85185185, 3059.45945946, 3067.06706707, 3074.67467467,\n",
       "       3082.28228228, 3089.88988989, 3097.4974975 , 3105.10510511,\n",
       "       3112.71271271, 3120.32032032, 3127.92792793, 3135.53553554,\n",
       "       3143.14314314, 3150.75075075, 3158.35835836, 3165.96596597,\n",
       "       3173.57357357, 3181.18118118, 3188.78878879, 3196.3963964 ,\n",
       "       3204.004004  , 3211.61161161, 3219.21921922, 3226.82682683,\n",
       "       3234.43443443, 3242.04204204, 3249.64964965, 3257.25725726,\n",
       "       3264.86486486, 3272.47247247, 3280.08008008, 3287.68768769,\n",
       "       3295.2952953 , 3302.9029029 , 3310.51051051, 3318.11811812,\n",
       "       3325.72572573, 3333.33333333, 3340.94094094, 3348.54854855,\n",
       "       3356.15615616, 3363.76376376, 3371.37137137, 3378.97897898,\n",
       "       3386.58658659, 3394.19419419, 3401.8018018 , 3409.40940941,\n",
       "       3417.01701702, 3424.62462462, 3432.23223223, 3439.83983984,\n",
       "       3447.44744745, 3455.05505506, 3462.66266266, 3470.27027027,\n",
       "       3477.87787788, 3485.48548549, 3493.09309309, 3500.7007007 ,\n",
       "       3508.30830831, 3515.91591592, 3523.52352352, 3531.13113113,\n",
       "       3538.73873874, 3546.34634635, 3553.95395395, 3561.56156156,\n",
       "       3569.16916917, 3576.77677678, 3584.38438438, 3591.99199199,\n",
       "       3599.5995996 , 3607.20720721, 3614.81481481, 3622.42242242,\n",
       "       3630.03003003, 3637.63763764, 3645.24524525, 3652.85285285,\n",
       "       3660.46046046, 3668.06806807, 3675.67567568, 3683.28328328,\n",
       "       3690.89089089, 3698.4984985 , 3706.10610611, 3713.71371371,\n",
       "       3721.32132132, 3728.92892893, 3736.53653654, 3744.14414414,\n",
       "       3751.75175175, 3759.35935936, 3766.96696697, 3774.57457457,\n",
       "       3782.18218218, 3789.78978979, 3797.3973974 , 3805.00500501,\n",
       "       3812.61261261, 3820.22022022, 3827.82782783, 3835.43543544,\n",
       "       3843.04304304, 3850.65065065, 3858.25825826, 3865.86586587,\n",
       "       3873.47347347, 3881.08108108, 3888.68868869, 3896.2962963 ,\n",
       "       3903.9039039 , 3911.51151151, 3919.11911912, 3926.72672673,\n",
       "       3934.33433433, 3941.94194194, 3949.54954955, 3957.15715716,\n",
       "       3964.76476476, 3972.37237237, 3979.97997998, 3987.58758759,\n",
       "       3995.1951952 , 4002.8028028 , 4010.41041041, 4018.01801802,\n",
       "       4025.62562563, 4033.23323323, 4040.84084084, 4048.44844845,\n",
       "       4056.05605606, 4063.66366366, 4071.27127127, 4078.87887888,\n",
       "       4086.48648649, 4094.09409409, 4101.7017017 , 4109.30930931,\n",
       "       4116.91691692, 4124.52452452, 4132.13213213, 4139.73973974,\n",
       "       4147.34734735, 4154.95495495, 4162.56256256, 4170.17017017,\n",
       "       4177.77777778, 4185.38538539, 4192.99299299, 4200.6006006 ,\n",
       "       4208.20820821, 4215.81581582, 4223.42342342, 4231.03103103,\n",
       "       4238.63863864, 4246.24624625, 4253.85385385, 4261.46146146,\n",
       "       4269.06906907, 4276.67667668, 4284.28428428, 4291.89189189,\n",
       "       4299.4994995 , 4307.10710711, 4314.71471471, 4322.32232232,\n",
       "       4329.92992993, 4337.53753754, 4345.14514515, 4352.75275275,\n",
       "       4360.36036036, 4367.96796797, 4375.57557558, 4383.18318318,\n",
       "       4390.79079079, 4398.3983984 , 4406.00600601, 4413.61361361,\n",
       "       4421.22122122, 4428.82882883, 4436.43643644, 4444.04404404,\n",
       "       4451.65165165, 4459.25925926, 4466.86686687, 4474.47447447,\n",
       "       4482.08208208, 4489.68968969, 4497.2972973 , 4504.9049049 ,\n",
       "       4512.51251251, 4520.12012012, 4527.72772773, 4535.33533534,\n",
       "       4542.94294294, 4550.55055055, 4558.15815816, 4565.76576577,\n",
       "       4573.37337337, 4580.98098098, 4588.58858859, 4596.1961962 ,\n",
       "       4603.8038038 , 4611.41141141, 4619.01901902, 4626.62662663,\n",
       "       4634.23423423, 4641.84184184, 4649.44944945, 4657.05705706,\n",
       "       4664.66466466, 4672.27227227, 4679.87987988, 4687.48748749,\n",
       "       4695.0950951 , 4702.7027027 , 4710.31031031, 4717.91791792,\n",
       "       4725.52552553, 4733.13313313, 4740.74074074, 4748.34834835,\n",
       "       4755.95595596, 4763.56356356, 4771.17117117, 4778.77877878,\n",
       "       4786.38638639, 4793.99399399, 4801.6016016 , 4809.20920921,\n",
       "       4816.81681682, 4824.42442442, 4832.03203203, 4839.63963964,\n",
       "       4847.24724725, 4854.85485485, 4862.46246246, 4870.07007007,\n",
       "       4877.67767768, 4885.28528529, 4892.89289289, 4900.5005005 ,\n",
       "       4908.10810811, 4915.71571572, 4923.32332332, 4930.93093093,\n",
       "       4938.53853854, 4946.14614615, 4953.75375375, 4961.36136136,\n",
       "       4968.96896897, 4976.57657658, 4984.18418418, 4991.79179179,\n",
       "       4999.3993994 , 5007.00700701, 5014.61461461, 5022.22222222,\n",
       "       5029.82982983, 5037.43743744, 5045.04504505, 5052.65265265,\n",
       "       5060.26026026, 5067.86786787, 5075.47547548, 5083.08308308,\n",
       "       5090.69069069, 5098.2982983 , 5105.90590591, 5113.51351351,\n",
       "       5121.12112112, 5128.72872873, 5136.33633634, 5143.94394394,\n",
       "       5151.55155155, 5159.15915916, 5166.76676677, 5174.37437437,\n",
       "       5181.98198198, 5189.58958959, 5197.1971972 , 5204.8048048 ,\n",
       "       5212.41241241, 5220.02002002, 5227.62762763, 5235.23523524,\n",
       "       5242.84284284, 5250.45045045, 5258.05805806, 5265.66566567,\n",
       "       5273.27327327, 5280.88088088, 5288.48848849, 5296.0960961 ,\n",
       "       5303.7037037 , 5311.31131131, 5318.91891892, 5326.52652653,\n",
       "       5334.13413413, 5341.74174174, 5349.34934935, 5356.95695696,\n",
       "       5364.56456456, 5372.17217217, 5379.77977978, 5387.38738739,\n",
       "       5394.99499499, 5402.6026026 , 5410.21021021, 5417.81781782,\n",
       "       5425.42542543, 5433.03303303, 5440.64064064, 5448.24824825,\n",
       "       5455.85585586, 5463.46346346, 5471.07107107, 5478.67867868,\n",
       "       5486.28628629, 5493.89389389, 5501.5015015 , 5509.10910911,\n",
       "       5516.71671672, 5524.32432432, 5531.93193193, 5539.53953954,\n",
       "       5547.14714715, 5554.75475475, 5562.36236236, 5569.96996997,\n",
       "       5577.57757758, 5585.18518519, 5592.79279279, 5600.4004004 ,\n",
       "       5608.00800801, 5615.61561562, 5623.22322322, 5630.83083083,\n",
       "       5638.43843844, 5646.04604605, 5653.65365365, 5661.26126126,\n",
       "       5668.86886887, 5676.47647648, 5684.08408408, 5691.69169169,\n",
       "       5699.2992993 , 5706.90690691, 5714.51451451, 5722.12212212,\n",
       "       5729.72972973, 5737.33733734, 5744.94494494, 5752.55255255,\n",
       "       5760.16016016, 5767.76776777, 5775.37537538, 5782.98298298,\n",
       "       5790.59059059, 5798.1981982 , 5805.80580581, 5813.41341341,\n",
       "       5821.02102102, 5828.62862863, 5836.23623624, 5843.84384384,\n",
       "       5851.45145145, 5859.05905906, 5866.66666667, 5874.27427427,\n",
       "       5881.88188188, 5889.48948949, 5897.0970971 , 5904.7047047 ,\n",
       "       5912.31231231, 5919.91991992, 5927.52752753, 5935.13513514,\n",
       "       5942.74274274, 5950.35035035, 5957.95795796, 5965.56556557,\n",
       "       5973.17317317, 5980.78078078, 5988.38838839, 5995.995996  ,\n",
       "       6003.6036036 , 6011.21121121, 6018.81881882, 6026.42642643,\n",
       "       6034.03403403, 6041.64164164, 6049.24924925, 6056.85685686,\n",
       "       6064.46446446, 6072.07207207, 6079.67967968, 6087.28728729,\n",
       "       6094.89489489, 6102.5025025 , 6110.11011011, 6117.71771772,\n",
       "       6125.32532533, 6132.93293293, 6140.54054054, 6148.14814815,\n",
       "       6155.75575576, 6163.36336336, 6170.97097097, 6178.57857858,\n",
       "       6186.18618619, 6193.79379379, 6201.4014014 , 6209.00900901,\n",
       "       6216.61661662, 6224.22422422, 6231.83183183, 6239.43943944,\n",
       "       6247.04704705, 6254.65465465, 6262.26226226, 6269.86986987,\n",
       "       6277.47747748, 6285.08508509, 6292.69269269, 6300.3003003 ,\n",
       "       6307.90790791, 6315.51551552, 6323.12312312, 6330.73073073,\n",
       "       6338.33833834, 6345.94594595, 6353.55355355, 6361.16116116,\n",
       "       6368.76876877, 6376.37637638, 6383.98398398, 6391.59159159,\n",
       "       6399.1991992 , 6406.80680681, 6414.41441441, 6422.02202202,\n",
       "       6429.62962963, 6437.23723724, 6444.84484484, 6452.45245245,\n",
       "       6460.06006006, 6467.66766767, 6475.27527528, 6482.88288288,\n",
       "       6490.49049049, 6498.0980981 , 6505.70570571, 6513.31331331,\n",
       "       6520.92092092, 6528.52852853, 6536.13613614, 6543.74374374,\n",
       "       6551.35135135, 6558.95895896, 6566.56656657, 6574.17417417,\n",
       "       6581.78178178, 6589.38938939, 6596.996997  , 6604.6046046 ,\n",
       "       6612.21221221, 6619.81981982, 6627.42742743, 6635.03503504,\n",
       "       6642.64264264, 6650.25025025, 6657.85785786, 6665.46546547,\n",
       "       6673.07307307, 6680.68068068, 6688.28828829, 6695.8958959 ,\n",
       "       6703.5035035 , 6711.11111111, 6718.71871872, 6726.32632633,\n",
       "       6733.93393393, 6741.54154154, 6749.14914915, 6756.75675676,\n",
       "       6764.36436436, 6771.97197197, 6779.57957958, 6787.18718719,\n",
       "       6794.79479479, 6802.4024024 , 6810.01001001, 6817.61761762,\n",
       "       6825.22522523, 6832.83283283, 6840.44044044, 6848.04804805,\n",
       "       6855.65565566, 6863.26326326, 6870.87087087, 6878.47847848,\n",
       "       6886.08608609, 6893.69369369, 6901.3013013 , 6908.90890891,\n",
       "       6916.51651652, 6924.12412412, 6931.73173173, 6939.33933934,\n",
       "       6946.94694695, 6954.55455455, 6962.16216216, 6969.76976977,\n",
       "       6977.37737738, 6984.98498498, 6992.59259259, 7000.2002002 ,\n",
       "       7007.80780781, 7015.41541542, 7023.02302302, 7030.63063063,\n",
       "       7038.23823824, 7045.84584585, 7053.45345345, 7061.06106106,\n",
       "       7068.66866867, 7076.27627628, 7083.88388388, 7091.49149149,\n",
       "       7099.0990991 , 7106.70670671, 7114.31431431, 7121.92192192,\n",
       "       7129.52952953, 7137.13713714, 7144.74474474, 7152.35235235,\n",
       "       7159.95995996, 7167.56756757, 7175.17517518, 7182.78278278,\n",
       "       7190.39039039, 7197.997998  , 7205.60560561, 7213.21321321,\n",
       "       7220.82082082, 7228.42842843, 7236.03603604, 7243.64364364,\n",
       "       7251.25125125, 7258.85885886, 7266.46646647, 7274.07407407,\n",
       "       7281.68168168, 7289.28928929, 7296.8968969 , 7304.5045045 ,\n",
       "       7312.11211211, 7319.71971972, 7327.32732733, 7334.93493493,\n",
       "       7342.54254254, 7350.15015015, 7357.75775776, 7365.36536537,\n",
       "       7372.97297297, 7380.58058058, 7388.18818819, 7395.7957958 ,\n",
       "       7403.4034034 , 7411.01101101, 7418.61861862, 7426.22622623,\n",
       "       7433.83383383, 7441.44144144, 7449.04904905, 7456.65665666,\n",
       "       7464.26426426, 7471.87187187, 7479.47947948, 7487.08708709,\n",
       "       7494.69469469, 7502.3023023 , 7509.90990991, 7517.51751752,\n",
       "       7525.12512513, 7532.73273273, 7540.34034034, 7547.94794795,\n",
       "       7555.55555556, 7563.16316316, 7570.77077077, 7578.37837838,\n",
       "       7585.98598599, 7593.59359359, 7601.2012012 , 7608.80880881,\n",
       "       7616.41641642, 7624.02402402, 7631.63163163, 7639.23923924,\n",
       "       7646.84684685, 7654.45445445, 7662.06206206, 7669.66966967,\n",
       "       7677.27727728, 7684.88488488, 7692.49249249, 7700.1001001 ,\n",
       "       7707.70770771, 7715.31531532, 7722.92292292, 7730.53053053,\n",
       "       7738.13813814, 7745.74574575, 7753.35335335, 7760.96096096,\n",
       "       7768.56856857, 7776.17617618, 7783.78378378, 7791.39139139,\n",
       "       7798.998999  , 7806.60660661, 7814.21421421, 7821.82182182,\n",
       "       7829.42942943, 7837.03703704, 7844.64464464, 7852.25225225,\n",
       "       7859.85985986, 7867.46746747, 7875.07507508, 7882.68268268,\n",
       "       7890.29029029, 7897.8978979 , 7905.50550551, 7913.11311311,\n",
       "       7920.72072072, 7928.32832833, 7935.93593594, 7943.54354354,\n",
       "       7951.15115115, 7958.75875876, 7966.36636637, 7973.97397397,\n",
       "       7981.58158158, 7989.18918919, 7996.7967968 , 8004.4044044 ,\n",
       "       8012.01201201, 8019.61961962, 8027.22722723, 8034.83483483,\n",
       "       8042.44244244, 8050.05005005, 8057.65765766, 8065.26526527,\n",
       "       8072.87287287, 8080.48048048, 8088.08808809, 8095.6956957 ,\n",
       "       8103.3033033 , 8110.91091091, 8118.51851852, 8126.12612613,\n",
       "       8133.73373373, 8141.34134134, 8148.94894895, 8156.55655656,\n",
       "       8164.16416416, 8171.77177177, 8179.37937938, 8186.98698699,\n",
       "       8194.59459459, 8202.2022022 , 8209.80980981, 8217.41741742,\n",
       "       8225.02502503, 8232.63263263, 8240.24024024, 8247.84784785,\n",
       "       8255.45545546, 8263.06306306, 8270.67067067, 8278.27827828,\n",
       "       8285.88588589, 8293.49349349, 8301.1011011 , 8308.70870871,\n",
       "       8316.31631632, 8323.92392392, 8331.53153153, 8339.13913914,\n",
       "       8346.74674675, 8354.35435435, 8361.96196196, 8369.56956957,\n",
       "       8377.17717718, 8384.78478478, 8392.39239239, 8400.        ])"
      ]
     },
     "execution_count": 33,
     "metadata": {},
     "output_type": "execute_result"
    }
   ],
   "source": [
    "xx"
   ]
  },
  {
   "cell_type": "code",
   "execution_count": null,
   "metadata": {},
   "outputs": [],
   "source": []
  }
 ],
 "metadata": {
  "kernelspec": {
   "display_name": "Python 3",
   "language": "python",
   "name": "python3"
  },
  "language_info": {
   "codemirror_mode": {
    "name": "ipython",
    "version": 3
   },
   "file_extension": ".py",
   "mimetype": "text/x-python",
   "name": "python",
   "nbconvert_exporter": "python",
   "pygments_lexer": "ipython3",
   "version": "3.7.4"
  }
 },
 "nbformat": 4,
 "nbformat_minor": 2
}
